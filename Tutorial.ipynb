{
 "cells": [
  {
   "attachments": {},
   "cell_type": "markdown",
   "metadata": {},
   "source": [
    "## Setup and Initialization"
   ]
  },
  {
   "attachments": {},
   "cell_type": "markdown",
   "metadata": {},
   "source": [
    "Create a virtual environment using command line prompt:\n",
    "!conda create -p venv python==3.8 -y\n",
    "\n",
    "Activate virtual environment:\n",
    "!conda activate venv/\n",
    "\n",
    "Connect with git repository:\n",
    "!git init\n",
    "\n",
    "Create README.md and add to git local and commit it:\n",
    "!git add README.md\n",
    "!git commit -m \"First Commit\"\n",
    "\n",
    "Push file to remote repository:\n",
    "!git branch -M main\n",
    "!git remote add origin https://github.com/triskelion6/ML_Project.git\n",
    "!git push -u origin main\n",
    "\n",
    "Check sync:\n",
    "!git remote -v\n",
    "\n",
    "Create gitignore file on GitHub\n",
    "\n",
    "\n"
   ]
  }
 ],
 "metadata": {
  "language_info": {
   "name": "python"
  },
  "orig_nbformat": 4
 },
 "nbformat": 4,
 "nbformat_minor": 2
}
